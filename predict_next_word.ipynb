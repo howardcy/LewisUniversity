{
  "cells": [
    {
      "cell_type": "markdown",
      "metadata": {
        "id": "view-in-github",
        "colab_type": "text"
      },
      "source": [
        "<a href=\"https://colab.research.google.com/github/howardcy/LewisUniversity/blob/main/predict_next_word.ipynb\" target=\"_parent\"><img src=\"https://colab.research.google.com/assets/colab-badge.svg\" alt=\"Open In Colab\"/></a>"
      ]
    },
    {
      "cell_type": "code",
      "execution_count": 3,
      "metadata": {
        "id": "zVCF9Brf8W4F"
      },
      "outputs": [],
      "source": [
        "import tensorflow as tf\n",
        "from tensorflow import keras\n",
        "from keras.preprocessing.text import Tokenizer\n",
        "from keras.utils import to_categorical\n",
        "import nltk\n",
        "from nltk.tokenize import word_tokenize\n",
        "import pickle\n",
        "import pprint\n",
        "import re\n",
        "import numpy as np"
      ]
    },
    {
      "cell_type": "markdown",
      "metadata": {
        "id": "VzTBwjF3iBM_"
      },
      "source": [
        "### Prepare Data"
      ]
    },
    {
      "cell_type": "markdown",
      "metadata": {
        "id": "6AU4qbsIiBM2"
      },
      "source": [
        "# Word Predition using LSTM"
      ]
    },
    {
      "cell_type": "code",
      "execution_count": null,
      "metadata": {
        "colab": {
          "base_uri": "https://localhost:8080/"
        },
        "id": "-EB7c1bpiBNA",
        "outputId": "a9076cd4-98c1-4e44-b196-6e55de29a6c2"
      },
      "outputs": [
        {
          "output_type": "stream",
          "name": "stderr",
          "text": [
            "[nltk_data] Downloading package gutenberg to /root/nltk_data...\n",
            "[nltk_data]   Package gutenberg is already up-to-date!\n"
          ]
        }
      ],
      "source": [
        "import nltk\n",
        "nltk.download('gutenberg')\n",
        "from nltk.corpus import gutenberg\n",
        "tokens = [word.lower() for word in gutenberg.words('austen-emma.txt') if word.isalpha()]"
      ]
    },
    {
      "cell_type": "code",
      "execution_count": null,
      "metadata": {
        "colab": {
          "base_uri": "https://localhost:8080/"
        },
        "id": "flE1Ij36iBNA",
        "outputId": "6739a878-7f9e-487e-a242-5bf9fbea397a"
      },
      "outputs": [
        {
          "output_type": "execute_result",
          "data": {
            "text/plain": [
              "['her',\n",
              " 'but',\n",
              " 'with',\n",
              " 'compassion',\n",
              " 'though',\n",
              " 'it',\n",
              " 'had',\n",
              " 'been',\n",
              " 'entirely',\n",
              " 'a',\n",
              " 'match',\n",
              " 'of',\n",
              " 'affection',\n",
              " 'when',\n",
              " 'he',\n",
              " 'was',\n",
              " 'now',\n",
              " 'obliged',\n",
              " 'to',\n",
              " 'part',\n",
              " 'with',\n",
              " 'miss',\n",
              " 'taylor',\n",
              " 'too',\n",
              " 'and',\n",
              " 'from',\n",
              " 'his',\n",
              " 'habits',\n",
              " 'of',\n",
              " 'gentle',\n",
              " 'selfishness',\n",
              " 'and',\n",
              " 'of',\n",
              " 'being',\n",
              " 'never',\n",
              " 'able',\n",
              " 'to',\n",
              " 'suppose',\n",
              " 'that',\n",
              " 'other']"
            ]
          },
          "metadata": {},
          "execution_count": 6
        }
      ],
      "source": [
        "tokens[1000:1040]"
      ]
    },
    {
      "cell_type": "markdown",
      "metadata": {
        "id": "xz7UtuqriBNB"
      },
      "source": [
        "### Create sequences"
      ]
    },
    {
      "cell_type": "code",
      "execution_count": null,
      "metadata": {
        "id": "wgz7s-qdiBNB"
      },
      "outputs": [],
      "source": [
        "seq_len = 3  # window size\n",
        "\n",
        "train_len = seq_len + 1\n",
        "text_sequences = []\n",
        "for i in range(train_len,len(tokens)):\n",
        "    seq = tokens[i-train_len:i]\n",
        "    text_sequences.append(seq)\n",
        "    \n",
        "sequences = {}\n",
        "count = 1\n",
        "for i in range(len(tokens)):\n",
        "    if tokens[i] not in sequences:\n",
        "        sequences[tokens[i]] = count\n",
        "        count += 1"
      ]
    },
    {
      "cell_type": "markdown",
      "metadata": {
        "id": "GnzDDyQjiBNC"
      },
      "source": [
        "### Vectorize\n",
        "\n",
        "Using [tf.keras.preprocessing.text.Tokenizer](https://www.tensorflow.org/api_docs/python/tf/keras/preprocessing/text/Tokenizer).  This class allows to vectorize a text corpus, by turning each text into a sequence of integers. "
      ]
    },
    {
      "cell_type": "code",
      "execution_count": null,
      "metadata": {
        "colab": {
          "base_uri": "https://localhost:8080/"
        },
        "id": "O1BzPYEFiBNB",
        "outputId": "02f147a1-7b38-4d6c-aa9b-474623b0993a"
      },
      "outputs": [
        {
          "output_type": "stream",
          "name": "stdout",
          "text": [
            "[['caresses', 'and', 'her', 'place'], ['and', 'her', 'place', 'had'], ['her', 'place', 'had', 'been'], ['place', 'had', 'been', 'supplied'], ['had', 'been', 'supplied', 'by'], ['been', 'supplied', 'by', 'an'], ['supplied', 'by', 'an', 'excellent'], ['by', 'an', 'excellent', 'woman'], ['an', 'excellent', 'woman', 'as'], ['excellent', 'woman', 'as', 'governess']]\n",
            "78\n"
          ]
        }
      ],
      "source": [
        "\n",
        "print(text_sequences[100:110])\n",
        "pprint.pprint(sequences['woman'])"
      ]
    },
    {
      "cell_type": "code",
      "execution_count": null,
      "metadata": {
        "colab": {
          "base_uri": "https://localhost:8080/"
        },
        "id": "oBnv2EPYiBNC",
        "outputId": "b93490c0-57fe-44a2-9254-4fc4caad2813"
      },
      "outputs": [
        {
          "output_type": "stream",
          "name": "stdout",
          "text": [
            "Vocabulary size 7079\n"
          ]
        }
      ],
      "source": [
        "tokenizer = Tokenizer()\n",
        "tokenizer.fit_on_texts(text_sequences)\n",
        "\n",
        "pickle.dump(tokenizer, open('emma_tokenizer.pkl', 'wb'))\n",
        "sequences = tokenizer.texts_to_sequences(text_sequences) \n",
        "\n",
        "#Collecting some information   \n",
        "vocabulary_size = len(tokenizer.word_counts)+1\n",
        "print(\"Vocabulary size {}\". format(vocabulary_size))\n",
        "\n",
        "n_sequences = np.empty([len(sequences),train_len], dtype='int32')\n",
        "for i in range(len(sequences)):\n",
        "    n_sequences[i] = sequences[i]"
      ]
    },
    {
      "cell_type": "code",
      "execution_count": null,
      "metadata": {
        "colab": {
          "base_uri": "https://localhost:8080/"
        },
        "id": "Wa7TUET-8oUe",
        "outputId": "3b586662-7de3-4728-8008-849b7e23a1f3"
      },
      "outputs": [
        {
          "output_type": "execute_result",
          "data": {
            "text/plain": [
              "(161596, 3)"
            ]
          },
          "metadata": {},
          "execution_count": 10
        }
      ],
      "source": [
        "train_inputs = n_sequences[:,:-1]\n",
        "train_targets = n_sequences[:,-1]\n",
        "train_targets = to_categorical(train_targets, num_classes=vocabulary_size)\n",
        "seq_len = train_inputs.shape[1]\n",
        "train_inputs.shape"
      ]
    },
    {
      "cell_type": "code",
      "execution_count": null,
      "metadata": {
        "colab": {
          "base_uri": "https://localhost:8080/"
        },
        "id": "fcYDEY3j9CJO",
        "outputId": "22130449-1988-4727-8d56-de0a33a0ef47"
      },
      "outputs": [
        {
          "output_type": "execute_result",
          "data": {
            "text/plain": [
              "array([0., 0., 0., ..., 0., 0., 0.], dtype=float32)"
            ]
          },
          "metadata": {},
          "execution_count": 11
        }
      ],
      "source": [
        "train_targets[0]"
      ]
    },
    {
      "cell_type": "markdown",
      "metadata": {
        "id": "lF5jUiY7iBNF"
      },
      "source": [
        "## Create the model"
      ]
    },
    {
      "cell_type": "code",
      "execution_count": null,
      "metadata": {
        "colab": {
          "base_uri": "https://localhost:8080/"
        },
        "id": "YsLaH73l9PkF",
        "outputId": "101fa8ac-45a5-47d3-8cfe-12f996ee9a5d"
      },
      "outputs": [
        {
          "output_type": "stream",
          "name": "stdout",
          "text": [
            "Model: \"sequential_1\"\n",
            "_________________________________________________________________\n",
            " Layer (type)                Output Shape              Param #   \n",
            "=================================================================\n",
            " embedding_1 (Embedding)     (None, 3, 3)              21237     \n",
            "                                                                 \n",
            " lstm_2 (LSTM)               (None, 3, 50)             10800     \n",
            "                                                                 \n",
            " lstm_3 (LSTM)               (None, 50)                20200     \n",
            "                                                                 \n",
            " dense_2 (Dense)             (None, 50)                2550      \n",
            "                                                                 \n",
            " dense_3 (Dense)             (None, 7079)              361029    \n",
            "                                                                 \n",
            "=================================================================\n",
            "Total params: 415,816\n",
            "Trainable params: 415,816\n",
            "Non-trainable params: 0\n",
            "_________________________________________________________________\n",
            "None\n"
          ]
        }
      ],
      "source": [
        "from keras.layers import Embedding, LSTM, Dense\n",
        "from keras.models import Sequential, load_model\n",
        "\n",
        "\n",
        "#model = load_model(\"emma_model.h5\")\n",
        "\n",
        "model = Sequential()\n",
        "model.add(Embedding(vocabulary_size, seq_len, input_length=seq_len))\n",
        "model.add(LSTM(50,return_sequences=True))\n",
        "model.add(LSTM(50))\n",
        "model.add(Dense(50,activation='relu'))\n",
        "model.add(Dense(vocabulary_size, activation='softmax'))\n",
        "print(model.summary())"
      ]
    },
    {
      "cell_type": "code",
      "execution_count": null,
      "metadata": {
        "colab": {
          "base_uri": "https://localhost:8080/",
          "height": 564
        },
        "id": "8Xp5PECGiBNG",
        "outputId": "140ebbc6-41f5-41b6-8d63-d77fac0e4803"
      },
      "outputs": [
        {
          "output_type": "execute_result",
          "data": {
            "image/png": "[encoded data removed]",
            "text/plain": [
              "<IPython.core.display.Image object>"
            ]
          },
          "metadata": {},
          "execution_count": 14
        }
      ],
      "source": [
        "from tensorflow import keras\n",
        "from keras.utils.vis_utils import plot_model\n",
        "\n",
        "keras.utils.plot_model(model, to_file='model.png', show_layer_names=True)"
      ]
    },
    {
      "cell_type": "markdown",
      "metadata": {
        "id": "1SnhXa5DiBNG"
      },
      "source": [
        "### Compile the model"
      ]
    },
    {
      "cell_type": "code",
      "execution_count": null,
      "metadata": {
        "id": "uQ75TLViiBNG"
      },
      "outputs": [],
      "source": [
        "model.compile(loss='categorical_crossentropy', optimizer='adam', metrics=['accuracy'])"
      ]
    },
    {
      "cell_type": "markdown",
      "metadata": {
        "id": "wgYTse5HiBNH"
      },
      "source": [
        "### Fit the model\n",
        "To build an accurate model takes many epochs. This will take hours to run.  "
      ]
    },
    {
      "cell_type": "code",
      "execution_count": null,
      "metadata": {
        "colab": {
          "base_uri": "https://localhost:8080/"
        },
        "id": "xW9o5TIwiBNH",
        "outputId": "0454d52c-49fd-41d3-cfc0-c20e997f9105"
      },
      "outputs": [
        {
          "output_type": "stream",
          "name": "stdout",
          "text": [
            "Epoch 1/250\n",
            "5050/5050 [==============================] - 117s 22ms/step - loss: 6.3155 - accuracy: 0.0365\n",
            "Epoch 2/250\n",
            "5050/5050 [==============================] - 111s 22ms/step - loss: 5.8783 - accuracy: 0.0663\n",
            "Epoch 3/250\n",
            "5050/5050 [==============================] - 113s 22ms/step - loss: 5.5621 - accuracy: 0.0966\n",
            "Epoch 4/250\n",
            "5050/5050 [==============================] - 113s 22ms/step - loss: 5.3590 - accuracy: 0.1104\n",
            "Epoch 5/250\n",
            "5050/5050 [==============================] - 112s 22ms/step - loss: 5.2201 - accuracy: 0.1180\n",
            "Epoch 6/250\n",
            "5050/5050 [==============================] - 112s 22ms/step - loss: 5.1137 - accuracy: 0.1242\n",
            "Epoch 7/250\n",
            "5050/5050 [==============================] - 111s 22ms/step - loss: 5.0280 - accuracy: 0.1286\n",
            "Epoch 8/250\n",
            "5050/5050 [==============================] - 115s 23ms/step - loss: 4.9582 - accuracy: 0.1323\n",
            "Epoch 9/250\n",
            "5050/5050 [==============================] - 112s 22ms/step - loss: 4.9012 - accuracy: 0.1347\n",
            "Epoch 10/250\n",
            "5050/5050 [==============================] - 112s 22ms/step - loss: 4.8526 - accuracy: 0.1368\n",
            "Epoch 11/250\n",
            "5050/5050 [==============================] - 109s 22ms/step - loss: 4.8105 - accuracy: 0.1383\n",
            "Epoch 12/250\n",
            "5050/5050 [==============================] - 109s 22ms/step - loss: 4.7749 - accuracy: 0.1394\n",
            "Epoch 13/250\n",
            "5050/5050 [==============================] - 112s 22ms/step - loss: 4.7443 - accuracy: 0.1405\n",
            "Epoch 14/250\n",
            "5050/5050 [==============================] - 110s 22ms/step - loss: 4.7157 - accuracy: 0.1414\n",
            "Epoch 15/250\n",
            "5050/5050 [==============================] - 115s 23ms/step - loss: 4.6904 - accuracy: 0.1422\n",
            "Epoch 16/250\n",
            "5050/5050 [==============================] - 110s 22ms/step - loss: 4.6666 - accuracy: 0.1429\n",
            "Epoch 17/250\n",
            "5050/5050 [==============================] - 113s 22ms/step - loss: 4.6448 - accuracy: 0.1441\n",
            "Epoch 18/250\n",
            "5050/5050 [==============================] - 111s 22ms/step - loss: 4.6255 - accuracy: 0.1451\n",
            "Epoch 19/250\n",
            "5050/5050 [==============================] - 111s 22ms/step - loss: 4.6071 - accuracy: 0.1457\n",
            "Epoch 20/250\n",
            "5050/5050 [==============================] - 110s 22ms/step - loss: 4.5892 - accuracy: 0.1461\n",
            "Epoch 21/250\n",
            "5050/5050 [==============================] - 114s 23ms/step - loss: 4.5744 - accuracy: 0.1467\n",
            "Epoch 22/250\n",
            "5050/5050 [==============================] - 112s 22ms/step - loss: 4.5580 - accuracy: 0.1479\n",
            "Epoch 23/250\n",
            "5050/5050 [==============================] - 113s 22ms/step - loss: 4.5451 - accuracy: 0.1486\n",
            "Epoch 24/250\n",
            "5050/5050 [==============================] - 113s 22ms/step - loss: 4.5323 - accuracy: 0.1487\n",
            "Epoch 25/250\n",
            "5050/5050 [==============================] - 113s 22ms/step - loss: 4.5197 - accuracy: 0.1487\n",
            "Epoch 26/250\n",
            "5050/5050 [==============================] - 110s 22ms/step - loss: 4.5084 - accuracy: 0.1498\n",
            "Epoch 27/250\n",
            "5050/5050 [==============================] - 115s 23ms/step - loss: 4.4964 - accuracy: 0.1508\n",
            "Epoch 28/250\n",
            "5050/5050 [==============================] - 111s 22ms/step - loss: 4.4855 - accuracy: 0.1509\n",
            "Epoch 29/250\n",
            "5050/5050 [==============================] - 111s 22ms/step - loss: 4.4745 - accuracy: 0.1511\n",
            "Epoch 30/250\n",
            "5050/5050 [==============================] - 117s 23ms/step - loss: 4.4660 - accuracy: 0.1519\n",
            "Epoch 31/250\n",
            "5050/5050 [==============================] - 110s 22ms/step - loss: 4.4556 - accuracy: 0.1523\n",
            "Epoch 32/250\n",
            "5050/5050 [==============================] - 109s 22ms/step - loss: 4.4469 - accuracy: 0.1531\n",
            "Epoch 33/250\n",
            "5050/5050 [==============================] - 111s 22ms/step - loss: 4.4378 - accuracy: 0.1536\n",
            "Epoch 34/250\n",
            "5050/5050 [==============================] - 137s 27ms/step - loss: 4.4307 - accuracy: 0.1530\n",
            "Epoch 35/250\n",
            "5050/5050 [==============================] - 166s 33ms/step - loss: 4.4207 - accuracy: 0.1542\n",
            "Epoch 36/250\n",
            "5050/5050 [==============================] - 120s 24ms/step - loss: 4.4136 - accuracy: 0.1544\n",
            "Epoch 37/250\n",
            "5050/5050 [==============================] - 124s 24ms/step - loss: 4.4060 - accuracy: 0.1544\n",
            "Epoch 38/250\n",
            "5050/5050 [==============================] - 123s 24ms/step - loss: 4.3988 - accuracy: 0.1552\n",
            "Epoch 39/250\n",
            "5050/5050 [==============================] - 122s 24ms/step - loss: 4.3906 - accuracy: 0.1555\n",
            "Epoch 40/250\n",
            "5050/5050 [==============================] - 118s 23ms/step - loss: 4.3842 - accuracy: 0.1562\n",
            "Epoch 41/250\n",
            "5050/5050 [==============================] - 113s 22ms/step - loss: 4.3771 - accuracy: 0.1564\n",
            "Epoch 42/250\n",
            "5050/5050 [==============================] - 113s 22ms/step - loss: 4.3697 - accuracy: 0.1563\n",
            "Epoch 43/250\n",
            "5050/5050 [==============================] - 114s 23ms/step - loss: 4.3631 - accuracy: 0.1567\n",
            "Epoch 44/250\n",
            "5050/5050 [==============================] - 117s 23ms/step - loss: 4.3571 - accuracy: 0.1572\n",
            "Epoch 45/250\n",
            "5050/5050 [==============================] - 111s 22ms/step - loss: 4.3516 - accuracy: 0.1576\n",
            "Epoch 46/250\n",
            "5050/5050 [==============================] - 110s 22ms/step - loss: 4.3449 - accuracy: 0.1579\n",
            "Epoch 47/250\n",
            "5050/5050 [==============================] - 112s 22ms/step - loss: 4.3397 - accuracy: 0.1587\n",
            "Epoch 48/250\n",
            "5050/5050 [==============================] - 110s 22ms/step - loss: 4.3341 - accuracy: 0.1582\n",
            "Epoch 49/250\n",
            "5050/5050 [==============================] - 116s 23ms/step - loss: 4.3292 - accuracy: 0.1585\n",
            "Epoch 50/250\n",
            "5050/5050 [==============================] - 112s 22ms/step - loss: 4.3235 - accuracy: 0.1590\n",
            "Epoch 51/250\n",
            "5050/5050 [==============================] - 114s 23ms/step - loss: 4.3184 - accuracy: 0.1592\n",
            "Epoch 52/250\n",
            "5050/5050 [==============================] - 113s 22ms/step - loss: 4.3136 - accuracy: 0.1601\n",
            "Epoch 53/250\n",
            "5050/5050 [==============================] - 110s 22ms/step - loss: 4.3083 - accuracy: 0.1596\n",
            "Epoch 54/250\n",
            "5050/5050 [==============================] - 112s 22ms/step - loss: 4.3031 - accuracy: 0.1599\n",
            "Epoch 55/250\n",
            "5050/5050 [==============================] - 111s 22ms/step - loss: 4.2998 - accuracy: 0.1605\n",
            "Epoch 56/250\n",
            "5050/5050 [==============================] - 111s 22ms/step - loss: 4.2942 - accuracy: 0.1603\n",
            "Epoch 57/250\n",
            "5050/5050 [==============================] - 114s 23ms/step - loss: 4.2903 - accuracy: 0.1609\n",
            "Epoch 58/250\n",
            "5050/5050 [==============================] - 112s 22ms/step - loss: 4.2869 - accuracy: 0.1613\n",
            "Epoch 59/250\n",
            "5050/5050 [==============================] - 110s 22ms/step - loss: 4.2814 - accuracy: 0.1613\n",
            "Epoch 60/250\n",
            "5050/5050 [==============================] - 113s 22ms/step - loss: 4.2788 - accuracy: 0.1619\n",
            "Epoch 61/250\n",
            "5050/5050 [==============================] - 118s 23ms/step - loss: 4.2742 - accuracy: 0.1621\n",
            "Epoch 62/250\n",
            "5050/5050 [==============================] - 118s 23ms/step - loss: 4.2695 - accuracy: 0.1620\n",
            "Epoch 63/250\n",
            "5050/5050 [==============================] - 115s 23ms/step - loss: 4.2668 - accuracy: 0.1625\n",
            "Epoch 64/250\n",
            "5050/5050 [==============================] - 115s 23ms/step - loss: 4.2624 - accuracy: 0.1626\n",
            "Epoch 65/250\n",
            "5050/5050 [==============================] - 116s 23ms/step - loss: 4.2577 - accuracy: 0.1628\n",
            "Epoch 66/250\n",
            "5050/5050 [==============================] - 110s 22ms/step - loss: 4.2558 - accuracy: 0.1633\n",
            "Epoch 67/250\n",
            "5050/5050 [==============================] - 110s 22ms/step - loss: 4.2523 - accuracy: 0.1634\n",
            "Epoch 68/250\n",
            "5050/5050 [==============================] - 111s 22ms/step - loss: 4.2485 - accuracy: 0.1634\n",
            "Epoch 69/250\n",
            "5050/5050 [==============================] - 108s 21ms/step - loss: 4.2451 - accuracy: 0.1636\n",
            "Epoch 70/250\n",
            "5050/5050 [==============================] - 109s 22ms/step - loss: 4.2426 - accuracy: 0.1635\n",
            "Epoch 71/250\n",
            "5050/5050 [==============================] - 151s 30ms/step - loss: 4.2388 - accuracy: 0.1642\n",
            "Epoch 72/250\n",
            "5050/5050 [==============================] - 137s 27ms/step - loss: 4.2355 - accuracy: 0.1647\n",
            "Epoch 73/250\n",
            "5050/5050 [==============================] - 116s 23ms/step - loss: 4.2333 - accuracy: 0.1644\n",
            "Epoch 74/250\n",
            "5050/5050 [==============================] - 116s 23ms/step - loss: 4.2301 - accuracy: 0.1644\n",
            "Epoch 75/250\n",
            "5050/5050 [==============================] - 114s 23ms/step - loss: 4.2282 - accuracy: 0.1648\n",
            "Epoch 76/250\n",
            "5050/5050 [==============================] - 115s 23ms/step - loss: 4.2242 - accuracy: 0.1653\n",
            "Epoch 77/250\n",
            "5050/5050 [==============================] - 112s 22ms/step - loss: 4.2208 - accuracy: 0.1656\n",
            "Epoch 78/250\n",
            "5050/5050 [==============================] - 114s 22ms/step - loss: 4.2183 - accuracy: 0.1654\n",
            "Epoch 79/250\n",
            "5050/5050 [==============================] - 114s 23ms/step - loss: 4.2148 - accuracy: 0.1658\n",
            "Epoch 80/250\n",
            "5050/5050 [==============================] - 114s 23ms/step - loss: 4.2126 - accuracy: 0.1656\n",
            "Epoch 81/250\n",
            "5050/5050 [==============================] - 119s 24ms/step - loss: 4.2097 - accuracy: 0.1660\n",
            "Epoch 82/250\n",
            "5050/5050 [==============================] - 119s 24ms/step - loss: 4.2071 - accuracy: 0.1664\n",
            "Epoch 83/250\n",
            "5050/5050 [==============================] - 114s 22ms/step - loss: 4.2039 - accuracy: 0.1666\n",
            "Epoch 84/250\n",
            "5050/5050 [==============================] - 111s 22ms/step - loss: 4.2033 - accuracy: 0.1665\n",
            "Epoch 85/250\n",
            "5050/5050 [==============================] - 115s 23ms/step - loss: 4.1997 - accuracy: 0.1668\n",
            "Epoch 86/250\n",
            "5050/5050 [==============================] - 117s 23ms/step - loss: 4.1969 - accuracy: 0.1673\n",
            "Epoch 87/250\n",
            "5050/5050 [==============================] - 120s 24ms/step - loss: 4.1955 - accuracy: 0.1674\n",
            "Epoch 88/250\n",
            "5050/5050 [==============================] - 118s 23ms/step - loss: 4.1937 - accuracy: 0.1673\n",
            "Epoch 89/250\n",
            "5050/5050 [==============================] - 110s 22ms/step - loss: 4.1903 - accuracy: 0.1679\n",
            "Epoch 90/250\n",
            "5050/5050 [==============================] - 111s 22ms/step - loss: 4.1869 - accuracy: 0.1676\n",
            "Epoch 91/250\n",
            "5050/5050 [==============================] - 111s 22ms/step - loss: 4.1857 - accuracy: 0.1674\n",
            "Epoch 92/250\n",
            "5050/5050 [==============================] - 112s 22ms/step - loss: 4.1836 - accuracy: 0.1680\n",
            "Epoch 93/250\n",
            "5050/5050 [==============================] - 115s 23ms/step - loss: 4.1810 - accuracy: 0.1682\n",
            "Epoch 94/250\n",
            "5050/5050 [==============================] - 114s 22ms/step - loss: 4.1792 - accuracy: 0.1677\n",
            "Epoch 95/250\n",
            "5050/5050 [==============================] - 113s 22ms/step - loss: 4.1765 - accuracy: 0.1687\n",
            "Epoch 96/250\n",
            "5050/5050 [==============================] - 114s 23ms/step - loss: 4.1745 - accuracy: 0.1690\n",
            "Epoch 97/250\n",
            "5050/5050 [==============================] - 113s 22ms/step - loss: 4.1718 - accuracy: 0.1682\n",
            "Epoch 98/250\n",
            "5050/5050 [==============================] - 113s 22ms/step - loss: 4.1705 - accuracy: 0.1691\n",
            "Epoch 99/250\n",
            "5050/5050 [==============================] - 113s 22ms/step - loss: 4.1675 - accuracy: 0.1686\n",
            "Epoch 100/250\n",
            "5050/5050 [==============================] - 115s 23ms/step - loss: 4.1652 - accuracy: 0.1692\n",
            "Epoch 101/250\n",
            "5050/5050 [==============================] - 118s 23ms/step - loss: 4.1640 - accuracy: 0.1697\n",
            "Epoch 102/250\n",
            "5050/5050 [==============================] - 117s 23ms/step - loss: 4.1611 - accuracy: 0.1694\n",
            "Epoch 103/250\n",
            "5050/5050 [==============================] - 114s 22ms/step - loss: 4.1585 - accuracy: 0.1700\n",
            "Epoch 104/250\n",
            "5050/5050 [==============================] - 115s 23ms/step - loss: 4.1556 - accuracy: 0.1706\n",
            "Epoch 105/250\n",
            "5050/5050 [==============================] - 114s 22ms/step - loss: 4.1543 - accuracy: 0.1697\n",
            "Epoch 106/250\n",
            "5050/5050 [==============================] - 114s 23ms/step - loss: 4.1515 - accuracy: 0.1704\n",
            "Epoch 107/250\n",
            "5050/5050 [==============================] - 114s 23ms/step - loss: 4.1487 - accuracy: 0.1709\n",
            "Epoch 108/250\n",
            "5050/5050 [==============================] - 113s 22ms/step - loss: 4.1476 - accuracy: 0.1707\n",
            "Epoch 109/250\n",
            "5050/5050 [==============================] - 116s 23ms/step - loss: 4.1458 - accuracy: 0.1707\n",
            "Epoch 110/250\n",
            "5050/5050 [==============================] - 114s 23ms/step - loss: 4.1436 - accuracy: 0.1713\n",
            "Epoch 111/250\n",
            "5050/5050 [==============================] - 115s 23ms/step - loss: 4.1417 - accuracy: 0.1713\n",
            "Epoch 112/250\n",
            "5050/5050 [==============================] - 115s 23ms/step - loss: 4.1392 - accuracy: 0.1717\n",
            "Epoch 113/250\n",
            "5050/5050 [==============================] - 114s 23ms/step - loss: 4.1376 - accuracy: 0.1714\n",
            "Epoch 114/250\n",
            "5050/5050 [==============================] - 120s 24ms/step - loss: 4.1353 - accuracy: 0.1717\n",
            "Epoch 115/250\n",
            "5050/5050 [==============================] - 113s 22ms/step - loss: 4.1336 - accuracy: 0.1710\n",
            "Epoch 116/250\n",
            "5050/5050 [==============================] - 119s 24ms/step - loss: 4.1319 - accuracy: 0.1716\n",
            "Epoch 117/250\n",
            "5050/5050 [==============================] - 115s 23ms/step - loss: 4.1298 - accuracy: 0.1723\n",
            "Epoch 118/250\n",
            "5050/5050 [==============================] - 116s 23ms/step - loss: 4.1280 - accuracy: 0.1719\n",
            "Epoch 119/250\n",
            "5050/5050 [==============================] - 116s 23ms/step - loss: 4.1271 - accuracy: 0.1727\n",
            "Epoch 120/250\n",
            "5050/5050 [==============================] - 119s 24ms/step - loss: 4.1251 - accuracy: 0.1727\n",
            "Epoch 121/250\n",
            "5050/5050 [==============================] - 116s 23ms/step - loss: 4.1233 - accuracy: 0.1731\n",
            "Epoch 122/250\n",
            "5050/5050 [==============================] - 118s 23ms/step - loss: 4.1220 - accuracy: 0.1735\n",
            "Epoch 123/250\n",
            "5050/5050 [==============================] - 116s 23ms/step - loss: 4.1188 - accuracy: 0.1733\n",
            "Epoch 124/250\n",
            "5050/5050 [==============================] - 113s 22ms/step - loss: 4.1187 - accuracy: 0.1727\n",
            "Epoch 125/250\n",
            "5050/5050 [==============================] - 116s 23ms/step - loss: 4.1174 - accuracy: 0.1726\n",
            "Epoch 126/250\n",
            "5050/5050 [==============================] - 118s 23ms/step - loss: 4.1150 - accuracy: 0.1731\n",
            "Epoch 127/250\n",
            "5050/5050 [==============================] - 119s 24ms/step - loss: 4.1133 - accuracy: 0.1733\n",
            "Epoch 128/250\n",
            "5050/5050 [==============================] - 118s 23ms/step - loss: 4.1114 - accuracy: 0.1736\n",
            "Epoch 129/250\n",
            "5050/5050 [==============================] - 118s 23ms/step - loss: 4.1114 - accuracy: 0.1746\n",
            "Epoch 130/250\n",
            "5050/5050 [==============================] - 119s 24ms/step - loss: 4.1084 - accuracy: 0.1741\n",
            "Epoch 131/250\n",
            "5050/5050 [==============================] - 115s 23ms/step - loss: 4.1073 - accuracy: 0.1741\n",
            "Epoch 132/250\n",
            "5050/5050 [==============================] - 122s 24ms/step - loss: 4.1061 - accuracy: 0.1739\n",
            "Epoch 133/250\n",
            "5050/5050 [==============================] - 122s 24ms/step - loss: 4.1048 - accuracy: 0.1747\n",
            "Epoch 134/250\n",
            "5050/5050 [==============================] - 116s 23ms/step - loss: 4.1040 - accuracy: 0.1744\n",
            "Epoch 135/250\n",
            "5050/5050 [==============================] - 115s 23ms/step - loss: 4.1021 - accuracy: 0.1738\n",
            "Epoch 136/250\n",
            "5050/5050 [==============================] - 116s 23ms/step - loss: 4.1021 - accuracy: 0.1737\n",
            "Epoch 137/250\n",
            "5050/5050 [==============================] - 118s 23ms/step - loss: 4.0995 - accuracy: 0.1743\n",
            "Epoch 138/250\n",
            "5050/5050 [==============================] - 115s 23ms/step - loss: 4.0987 - accuracy: 0.1744\n",
            "Epoch 139/250\n",
            "5050/5050 [==============================] - 115s 23ms/step - loss: 4.0961 - accuracy: 0.1746\n",
            "Epoch 140/250\n",
            "5050/5050 [==============================] - 114s 23ms/step - loss: 4.0961 - accuracy: 0.1745\n",
            "Epoch 141/250\n",
            "5050/5050 [==============================] - 112s 22ms/step - loss: 4.0941 - accuracy: 0.1754\n",
            "Epoch 142/250\n",
            "5050/5050 [==============================] - 113s 22ms/step - loss: 4.0926 - accuracy: 0.1752\n",
            "Epoch 143/250\n",
            "5050/5050 [==============================] - 113s 22ms/step - loss: 4.0920 - accuracy: 0.1754\n",
            "Epoch 144/250\n",
            "5050/5050 [==============================] - 122s 24ms/step - loss: 4.0908 - accuracy: 0.1756\n",
            "Epoch 145/250\n",
            "5050/5050 [==============================] - 112s 22ms/step - loss: 4.0896 - accuracy: 0.1757\n",
            "Epoch 146/250\n",
            "5050/5050 [==============================] - 109s 22ms/step - loss: 4.0885 - accuracy: 0.1761\n",
            "Epoch 147/250\n",
            "5050/5050 [==============================] - 108s 21ms/step - loss: 4.0876 - accuracy: 0.1761\n",
            "Epoch 148/250\n",
            "5050/5050 [==============================] - 110s 22ms/step - loss: 4.0866 - accuracy: 0.1759\n",
            "Epoch 149/250\n",
            "5050/5050 [==============================] - 110s 22ms/step - loss: 4.0866 - accuracy: 0.1755\n",
            "Epoch 150/250\n",
            "5050/5050 [==============================] - 111s 22ms/step - loss: 4.0854 - accuracy: 0.1757\n",
            "Epoch 151/250\n",
            "5050/5050 [==============================] - 149s 30ms/step - loss: 4.0828 - accuracy: 0.1760\n",
            "Epoch 152/250\n",
            "5050/5050 [==============================] - 119s 24ms/step - loss: 4.0827 - accuracy: 0.1763\n",
            "Epoch 153/250\n",
            "5050/5050 [==============================] - 118s 23ms/step - loss: 4.0806 - accuracy: 0.1764\n",
            "Epoch 154/250\n",
            "5050/5050 [==============================] - 116s 23ms/step - loss: 4.0790 - accuracy: 0.1768\n",
            "Epoch 155/250\n",
            "5050/5050 [==============================] - 117s 23ms/step - loss: 4.0774 - accuracy: 0.1763\n",
            "Epoch 156/250\n",
            "5050/5050 [==============================] - 117s 23ms/step - loss: 4.0786 - accuracy: 0.1760\n",
            "Epoch 157/250\n",
            "5050/5050 [==============================] - 114s 23ms/step - loss: 4.0760 - accuracy: 0.1762\n",
            "Epoch 158/250\n",
            "5050/5050 [==============================] - 115s 23ms/step - loss: 4.0754 - accuracy: 0.1772\n",
            "Epoch 159/250\n",
            "5050/5050 [==============================] - 116s 23ms/step - loss: 4.0746 - accuracy: 0.1770\n",
            "Epoch 160/250\n",
            "5050/5050 [==============================] - 121s 24ms/step - loss: 4.0727 - accuracy: 0.1769\n",
            "Epoch 161/250\n",
            "5050/5050 [==============================] - 120s 24ms/step - loss: 4.0723 - accuracy: 0.1767\n",
            "Epoch 162/250\n",
            "5050/5050 [==============================] - 121s 24ms/step - loss: 4.0728 - accuracy: 0.1771\n",
            "Epoch 163/250\n",
            "5050/5050 [==============================] - 121s 24ms/step - loss: 4.0708 - accuracy: 0.1772\n",
            "Epoch 164/250\n",
            "5050/5050 [==============================] - 116s 23ms/step - loss: 4.0702 - accuracy: 0.1772\n",
            "Epoch 165/250\n",
            "5050/5050 [==============================] - 117s 23ms/step - loss: 4.0687 - accuracy: 0.1780\n",
            "Epoch 166/250\n",
            "5050/5050 [==============================] - 116s 23ms/step - loss: 4.0677 - accuracy: 0.1778\n",
            "Epoch 167/250\n",
            "5050/5050 [==============================] - 114s 23ms/step - loss: 4.0666 - accuracy: 0.1771\n",
            "Epoch 168/250\n",
            "5050/5050 [==============================] - 116s 23ms/step - loss: 4.0660 - accuracy: 0.1771\n",
            "Epoch 169/250\n",
            "5050/5050 [==============================] - 116s 23ms/step - loss: 4.0650 - accuracy: 0.1785\n",
            "Epoch 170/250\n",
            "5050/5050 [==============================] - 114s 23ms/step - loss: 4.0640 - accuracy: 0.1774\n",
            "Epoch 171/250\n",
            "5050/5050 [==============================] - 116s 23ms/step - loss: 4.0636 - accuracy: 0.1777\n",
            "Epoch 172/250\n",
            "5050/5050 [==============================] - 117s 23ms/step - loss: 4.0616 - accuracy: 0.1776\n",
            "Epoch 173/250\n",
            "5050/5050 [==============================] - 116s 23ms/step - loss: 4.0616 - accuracy: 0.1772\n",
            "Epoch 174/250\n",
            "5050/5050 [==============================] - 115s 23ms/step - loss: 4.0604 - accuracy: 0.1778\n",
            "Epoch 175/250\n",
            "5050/5050 [==============================] - 115s 23ms/step - loss: 4.0608 - accuracy: 0.1781\n",
            "Epoch 176/250\n",
            "5050/5050 [==============================] - 115s 23ms/step - loss: 4.0589 - accuracy: 0.1777\n",
            "Epoch 177/250\n",
            "5050/5050 [==============================] - 120s 24ms/step - loss: 4.0575 - accuracy: 0.1779\n",
            "Epoch 178/250\n",
            "5050/5050 [==============================] - 117s 23ms/step - loss: 4.0574 - accuracy: 0.1780\n",
            "Epoch 179/250\n",
            "5050/5050 [==============================] - 120s 24ms/step - loss: 4.0572 - accuracy: 0.1779\n",
            "Epoch 180/250\n",
            "5050/5050 [==============================] - 118s 23ms/step - loss: 4.0549 - accuracy: 0.1787\n",
            "Epoch 181/250\n",
            "5050/5050 [==============================] - 117s 23ms/step - loss: 4.0562 - accuracy: 0.1781\n",
            "Epoch 182/250\n",
            "5050/5050 [==============================] - 118s 23ms/step - loss: 4.0533 - accuracy: 0.1783\n",
            "Epoch 183/250\n",
            "5050/5050 [==============================] - 116s 23ms/step - loss: 4.0549 - accuracy: 0.1784\n",
            "Epoch 184/250\n",
            "5050/5050 [==============================] - 119s 24ms/step - loss: 4.0498 - accuracy: 0.1791\n",
            "Epoch 185/250\n",
            "5050/5050 [==============================] - 119s 24ms/step - loss: 4.0529 - accuracy: 0.1783\n",
            "Epoch 186/250\n",
            "5050/5050 [==============================] - 121s 24ms/step - loss: 4.0505 - accuracy: 0.1785\n",
            "Epoch 187/250\n",
            "5050/5050 [==============================] - 120s 24ms/step - loss: 4.0490 - accuracy: 0.1790\n",
            "Epoch 188/250\n",
            "5050/5050 [==============================] - 117s 23ms/step - loss: 4.0494 - accuracy: 0.1792\n",
            "Epoch 189/250\n",
            "5050/5050 [==============================] - 117s 23ms/step - loss: 4.0488 - accuracy: 0.1794\n",
            "Epoch 190/250\n",
            "5050/5050 [==============================] - 115s 23ms/step - loss: 4.0467 - accuracy: 0.1789\n",
            "Epoch 191/250\n",
            "5050/5050 [==============================] - 120s 24ms/step - loss: 4.0464 - accuracy: 0.1799\n",
            "Epoch 192/250\n",
            "5050/5050 [==============================] - 127s 25ms/step - loss: 4.0454 - accuracy: 0.1796\n",
            "Epoch 193/250\n",
            "5050/5050 [==============================] - 122s 24ms/step - loss: 4.0456 - accuracy: 0.1794\n",
            "Epoch 194/250\n",
            "5050/5050 [==============================] - 127s 25ms/step - loss: 4.0456 - accuracy: 0.1792\n",
            "Epoch 195/250\n",
            "5050/5050 [==============================] - 119s 23ms/step - loss: 4.0432 - accuracy: 0.1793\n",
            "Epoch 196/250\n",
            "5050/5050 [==============================] - 119s 24ms/step - loss: 4.0427 - accuracy: 0.1793\n",
            "Epoch 197/250\n",
            "5050/5050 [==============================] - 118s 23ms/step - loss: 4.0439 - accuracy: 0.1790\n",
            "Epoch 198/250\n",
            "5050/5050 [==============================] - 119s 24ms/step - loss: 4.0419 - accuracy: 0.1798\n",
            "Epoch 199/250\n",
            "5050/5050 [==============================] - 122s 24ms/step - loss: 4.0418 - accuracy: 0.1799\n",
            "Epoch 200/250\n",
            "5050/5050 [==============================] - 121s 24ms/step - loss: 4.0401 - accuracy: 0.1798\n",
            "Epoch 201/250\n",
            "5050/5050 [==============================] - 122s 24ms/step - loss: 4.0399 - accuracy: 0.1800\n",
            "Epoch 202/250\n",
            "5050/5050 [==============================] - 121s 24ms/step - loss: 4.0398 - accuracy: 0.1797\n",
            "Epoch 203/250\n",
            "5050/5050 [==============================] - 123s 24ms/step - loss: 4.0380 - accuracy: 0.1803\n",
            "Epoch 204/250\n",
            "5050/5050 [==============================] - 126s 25ms/step - loss: 4.0386 - accuracy: 0.1795\n",
            "Epoch 205/250\n",
            "5050/5050 [==============================] - 124s 25ms/step - loss: 4.0365 - accuracy: 0.1808\n",
            "Epoch 206/250\n",
            "5050/5050 [==============================] - 121s 24ms/step - loss: 4.0363 - accuracy: 0.1801\n",
            "Epoch 207/250\n",
            "5050/5050 [==============================] - 115s 23ms/step - loss: 4.0361 - accuracy: 0.1800\n",
            "Epoch 208/250\n",
            "5050/5050 [==============================] - 120s 24ms/step - loss: 4.0352 - accuracy: 0.1798\n",
            "Epoch 209/250\n",
            "5050/5050 [==============================] - 121s 24ms/step - loss: 4.0346 - accuracy: 0.1807\n",
            "Epoch 210/250\n",
            "5050/5050 [==============================] - 119s 24ms/step - loss: 4.0338 - accuracy: 0.1806\n",
            "Epoch 211/250\n",
            "5050/5050 [==============================] - 121s 24ms/step - loss: 4.0338 - accuracy: 0.1803\n",
            "Epoch 212/250\n",
            "5050/5050 [==============================] - 120s 24ms/step - loss: 4.0326 - accuracy: 0.1811\n",
            "Epoch 213/250\n",
            "5050/5050 [==============================] - 119s 24ms/step - loss: 4.0312 - accuracy: 0.1805\n",
            "Epoch 214/250\n",
            "5050/5050 [==============================] - 117s 23ms/step - loss: 4.0307 - accuracy: 0.1807\n",
            "Epoch 215/250\n",
            "5050/5050 [==============================] - 121s 24ms/step - loss: 4.0312 - accuracy: 0.1806\n",
            "Epoch 216/250\n",
            "5050/5050 [==============================] - 123s 24ms/step - loss: 4.0312 - accuracy: 0.1805\n",
            "Epoch 217/250\n",
            "5050/5050 [==============================] - 125s 25ms/step - loss: 4.0291 - accuracy: 0.1805\n",
            "Epoch 218/250\n",
            "5050/5050 [==============================] - 117s 23ms/step - loss: 4.0292 - accuracy: 0.1807\n",
            "Epoch 219/250\n",
            "5050/5050 [==============================] - 113s 22ms/step - loss: 4.0293 - accuracy: 0.1808\n",
            "Epoch 220/250\n",
            "5050/5050 [==============================] - 115s 23ms/step - loss: 4.0269 - accuracy: 0.1809\n",
            "Epoch 221/250\n",
            "5050/5050 [==============================] - 114s 23ms/step - loss: 4.0270 - accuracy: 0.1807\n",
            "Epoch 222/250\n",
            "5050/5050 [==============================] - 113s 22ms/step - loss: 4.0262 - accuracy: 0.1812\n",
            "Epoch 223/250\n",
            "5050/5050 [==============================] - 112s 22ms/step - loss: 4.0263 - accuracy: 0.1813\n",
            "Epoch 224/250\n",
            "5050/5050 [==============================] - 113s 22ms/step - loss: 4.0256 - accuracy: 0.1811\n",
            "Epoch 225/250\n",
            "5050/5050 [==============================] - 113s 22ms/step - loss: 4.0247 - accuracy: 0.1814\n",
            "Epoch 226/250\n",
            "5050/5050 [==============================] - 112s 22ms/step - loss: 4.0251 - accuracy: 0.1811\n",
            "Epoch 227/250\n",
            "5050/5050 [==============================] - 116s 23ms/step - loss: 4.0248 - accuracy: 0.1811\n",
            "Epoch 228/250\n",
            "5050/5050 [==============================] - 115s 23ms/step - loss: 4.0241 - accuracy: 0.1813\n",
            "Epoch 229/250\n",
            "5050/5050 [==============================] - 116s 23ms/step - loss: 4.0223 - accuracy: 0.1810\n",
            "Epoch 230/250\n",
            "5050/5050 [==============================] - 113s 22ms/step - loss: 4.0221 - accuracy: 0.1816\n",
            "Epoch 231/250\n",
            "5050/5050 [==============================] - 114s 23ms/step - loss: 4.0227 - accuracy: 0.1815\n",
            "Epoch 232/250\n",
            "5050/5050 [==============================] - 119s 23ms/step - loss: 4.0209 - accuracy: 0.1817\n",
            "Epoch 233/250\n",
            "5050/5050 [==============================] - 117s 23ms/step - loss: 4.0208 - accuracy: 0.1817\n",
            "Epoch 234/250\n",
            "5050/5050 [==============================] - 115s 23ms/step - loss: 4.0199 - accuracy: 0.1815\n",
            "Epoch 235/250\n",
            "5050/5050 [==============================] - 117s 23ms/step - loss: 4.0201 - accuracy: 0.1819\n",
            "Epoch 236/250\n",
            "5050/5050 [==============================] - 115s 23ms/step - loss: 4.0189 - accuracy: 0.1806\n",
            "Epoch 237/250\n",
            "5050/5050 [==============================] - 115s 23ms/step - loss: 4.0185 - accuracy: 0.1813\n",
            "Epoch 238/250\n",
            "5050/5050 [==============================] - 116s 23ms/step - loss: 4.0177 - accuracy: 0.1815\n",
            "Epoch 239/250\n",
            "5050/5050 [==============================] - 118s 23ms/step - loss: 4.0172 - accuracy: 0.1815\n",
            "Epoch 240/250\n",
            "5050/5050 [==============================] - 116s 23ms/step - loss: 4.0178 - accuracy: 0.1820\n",
            "Epoch 241/250\n",
            "5050/5050 [==============================] - 116s 23ms/step - loss: 4.0170 - accuracy: 0.1817\n",
            "Epoch 242/250\n",
            "5050/5050 [==============================] - 118s 23ms/step - loss: 4.0152 - accuracy: 0.1817\n",
            "Epoch 243/250\n",
            "5050/5050 [==============================] - 116s 23ms/step - loss: 4.0148 - accuracy: 0.1818\n",
            "Epoch 244/250\n",
            "5050/5050 [==============================] - 115s 23ms/step - loss: 4.0149 - accuracy: 0.1818\n",
            "Epoch 245/250\n",
            "5050/5050 [==============================] - 117s 23ms/step - loss: 4.0152 - accuracy: 0.1817\n",
            "Epoch 246/250\n",
            "5050/5050 [==============================] - 114s 23ms/step - loss: 4.0133 - accuracy: 0.1826\n",
            "Epoch 247/250\n",
            "5050/5050 [==============================] - 116s 23ms/step - loss: 4.0142 - accuracy: 0.1827\n",
            "Epoch 248/250\n",
            "5050/5050 [==============================] - 123s 24ms/step - loss: 4.0124 - accuracy: 0.1821\n",
            "Epoch 249/250\n",
            "5050/5050 [==============================] - 116s 23ms/step - loss: 4.0124 - accuracy: 0.1822\n",
            "Epoch 250/250\n",
            "5050/5050 [==============================] - 114s 23ms/step - loss: 4.0122 - accuracy: 0.1818\n"
          ]
        }
      ],
      "source": [
        "history = model.fit(train_inputs,train_targets,epochs=250,verbose=1)\n",
        "model.save(\"emma_model.h5\")"
      ]
    },
    {
      "cell_type": "markdown",
      "metadata": {
        "id": "513_3Mw1iBNH"
      },
      "source": [
        "### Visualize the model improvement"
      ]
    },
    {
      "cell_type": "code",
      "execution_count": null,
      "metadata": {
        "id": "WL9Y36f4iBNI"
      },
      "outputs": [],
      "source": [
        "history_dict = history.history\n",
        "loss = history_dict['loss']\n",
        "accuracy = history_dict['accuracy']\n",
        "epochs = range(1, len(loss) + 1)"
      ]
    },
    {
      "cell_type": "code",
      "execution_count": null,
      "metadata": {
        "colab": {
          "base_uri": "https://localhost:8080/",
          "height": 295
        },
        "id": "hXYPZp0UiBNJ",
        "outputId": "e901c71d-14d1-41c3-f808-7a0897e6d59c"
      },
      "outputs": [
        {
          "data": {
            "image/png": "[encoded data removed]",
            "text/plain": [
              "<Figure size 432x288 with 1 Axes>"
            ]
          },
          "metadata": {
            "tags": []
          },
          "output_type": "display_data"
        }
      ],
      "source": [
        "import matplotlib.pyplot as plt\n",
        "\n",
        "plt.plot(epochs, loss, 'b', label='Training loss')\n",
        "plt.title('Training loss')\n",
        "plt.xlabel('Epochs')\n",
        "plt.ylabel('Loss')\n",
        "plt.show()"
      ]
    },
    {
      "cell_type": "code",
      "execution_count": null,
      "metadata": {
        "colab": {
          "base_uri": "https://localhost:8080/",
          "height": 295
        },
        "id": "SheJyQBRiBNJ",
        "outputId": "0e3a9dd1-4aa2-4dc6-f644-52fcfeae8400"
      },
      "outputs": [
        {
          "data": {
            "image/png": "[encoded data removed]",
            "text/plain": [
              "<Figure size 432x288 with 1 Axes>"
            ]
          },
          "metadata": {
            "tags": []
          },
          "output_type": "display_data"
        }
      ],
      "source": [
        "plt.plot(epochs, accuracy, 'r', label='Accuracy')\n",
        "plt.title('Accuracy')\n",
        "plt.xlabel('Epochs')\n",
        "plt.ylabel('Accuracy')\n",
        "plt.show()"
      ]
    },
    {
      "cell_type": "markdown",
      "metadata": {
        "id": "B6-CHH93iBNK"
      },
      "source": [
        "## Predict Words"
      ]
    },
    {
      "cell_type": "code",
      "execution_count": null,
      "metadata": {
        "colab": {
          "base_uri": "https://localhost:8080/",
          "height": 681
        },
        "id": "RLfshkzFmPxX",
        "outputId": "1a2795cc-70b2-4416-abf3-cc02c465a4e2"
      },
      "outputs": [
        {
          "output_type": "stream",
          "name": "stdout",
          "text": [
            "this is a\n",
            "[53, 22, 6] [[53 22  6]]\n",
            "1/1 [==============================] - 2s 2s/step\n",
            "Next word suggestion: very\n",
            "Next word suggestion: little\n",
            "Next word suggestion: great\n",
            "he saw a\n",
            "[16, 196, 6] [[ 16 196   6]]\n",
            "1/1 [==============================] - 0s 50ms/step\n",
            "Next word suggestion: very\n",
            "Next word suggestion: great\n",
            "Next word suggestion: few\n",
            "the man was\n",
            "[2, 109, 9] [[  2 109   9]]\n",
            "1/1 [==============================] - 0s 36ms/step\n",
            "Next word suggestion: not\n",
            "Next word suggestion: to\n",
            "Next word suggestion: very\n"
          ]
        },
        {
          "output_type": "error",
          "ename": "KeyboardInterrupt",
          "evalue": "ignored",
          "traceback": [
            "\u001b[0;31m---------------------------------------------------------------------------\u001b[0m",
            "\u001b[0;31mKeyboardInterrupt\u001b[0m                         Traceback (most recent call last)",
            "\u001b[0;32m<ipython-input-19-96d6170a13cc>\u001b[0m in \u001b[0;36m<module>\u001b[0;34m\u001b[0m\n\u001b[1;32m      8\u001b[0m \u001b[0minput_text\u001b[0m\u001b[0;34m=\u001b[0m\u001b[0;34m\"\"\u001b[0m\u001b[0;34m\u001b[0m\u001b[0;34m\u001b[0m\u001b[0m\n\u001b[1;32m      9\u001b[0m \u001b[0;32mwhile\u001b[0m \u001b[0;32mTrue\u001b[0m\u001b[0;34m:\u001b[0m\u001b[0;34m\u001b[0m\u001b[0;34m\u001b[0m\u001b[0m\n\u001b[0;32m---> 10\u001b[0;31m     \u001b[0minput_text\u001b[0m \u001b[0;34m=\u001b[0m \u001b[0minput\u001b[0m\u001b[0;34m(\u001b[0m\u001b[0;34m)\u001b[0m\u001b[0;34m.\u001b[0m\u001b[0mstrip\u001b[0m\u001b[0;34m(\u001b[0m\u001b[0;34m)\u001b[0m\u001b[0;34m.\u001b[0m\u001b[0mlower\u001b[0m\u001b[0;34m(\u001b[0m\u001b[0;34m)\u001b[0m\u001b[0;34m\u001b[0m\u001b[0;34m\u001b[0m\u001b[0m\n\u001b[0m\u001b[1;32m     11\u001b[0m     \u001b[0;32mif\u001b[0m \u001b[0minput_text\u001b[0m \u001b[0;34m==\u001b[0m \u001b[0;34m\"stop!!\"\u001b[0m\u001b[0;34m:\u001b[0m\u001b[0;34m\u001b[0m\u001b[0;34m\u001b[0m\u001b[0m\n\u001b[1;32m     12\u001b[0m         \u001b[0;32mbreak\u001b[0m\u001b[0;34m\u001b[0m\u001b[0;34m\u001b[0m\u001b[0m\n",
            "\u001b[0;32m/usr/local/lib/python3.8/dist-packages/ipykernel/kernelbase.py\u001b[0m in \u001b[0;36mraw_input\u001b[0;34m(self, prompt)\u001b[0m\n\u001b[1;32m    858\u001b[0m                 \u001b[0;34m\"raw_input was called, but this frontend does not support input requests.\"\u001b[0m\u001b[0;34m\u001b[0m\u001b[0;34m\u001b[0m\u001b[0m\n\u001b[1;32m    859\u001b[0m             )\n\u001b[0;32m--> 860\u001b[0;31m         return self._input_request(str(prompt),\n\u001b[0m\u001b[1;32m    861\u001b[0m             \u001b[0mself\u001b[0m\u001b[0;34m.\u001b[0m\u001b[0m_parent_ident\u001b[0m\u001b[0;34m,\u001b[0m\u001b[0;34m\u001b[0m\u001b[0;34m\u001b[0m\u001b[0m\n\u001b[1;32m    862\u001b[0m             \u001b[0mself\u001b[0m\u001b[0;34m.\u001b[0m\u001b[0m_parent_header\u001b[0m\u001b[0;34m,\u001b[0m\u001b[0;34m\u001b[0m\u001b[0;34m\u001b[0m\u001b[0m\n",
            "\u001b[0;32m/usr/local/lib/python3.8/dist-packages/ipykernel/kernelbase.py\u001b[0m in \u001b[0;36m_input_request\u001b[0;34m(self, prompt, ident, parent, password)\u001b[0m\n\u001b[1;32m    902\u001b[0m             \u001b[0;32mexcept\u001b[0m \u001b[0mKeyboardInterrupt\u001b[0m\u001b[0;34m:\u001b[0m\u001b[0;34m\u001b[0m\u001b[0;34m\u001b[0m\u001b[0m\n\u001b[1;32m    903\u001b[0m                 \u001b[0;31m# re-raise KeyboardInterrupt, to truncate traceback\u001b[0m\u001b[0;34m\u001b[0m\u001b[0;34m\u001b[0m\u001b[0;34m\u001b[0m\u001b[0m\n\u001b[0;32m--> 904\u001b[0;31m                 \u001b[0;32mraise\u001b[0m \u001b[0mKeyboardInterrupt\u001b[0m\u001b[0;34m(\u001b[0m\u001b[0;34m\"Interrupted by user\"\u001b[0m\u001b[0;34m)\u001b[0m \u001b[0;32mfrom\u001b[0m \u001b[0;32mNone\u001b[0m\u001b[0;34m\u001b[0m\u001b[0;34m\u001b[0m\u001b[0m\n\u001b[0m\u001b[1;32m    905\u001b[0m             \u001b[0;32mexcept\u001b[0m \u001b[0mException\u001b[0m \u001b[0;32mas\u001b[0m \u001b[0me\u001b[0m\u001b[0;34m:\u001b[0m\u001b[0;34m\u001b[0m\u001b[0;34m\u001b[0m\u001b[0m\n\u001b[1;32m    906\u001b[0m                 \u001b[0mself\u001b[0m\u001b[0;34m.\u001b[0m\u001b[0mlog\u001b[0m\u001b[0;34m.\u001b[0m\u001b[0mwarning\u001b[0m\u001b[0;34m(\u001b[0m\u001b[0;34m\"Invalid Message:\"\u001b[0m\u001b[0;34m,\u001b[0m \u001b[0mexc_info\u001b[0m\u001b[0;34m=\u001b[0m\u001b[0;32mTrue\u001b[0m\u001b[0;34m)\u001b[0m\u001b[0;34m\u001b[0m\u001b[0;34m\u001b[0m\u001b[0m\n",
            "\u001b[0;31mKeyboardInterrupt\u001b[0m: Interrupted by user"
          ]
        }
      ],
      "source": [
        "from tensorflow.keras.preprocessing.sequence import pad_sequences\n",
        "from tensorflow.keras.models import load_model\n",
        "import pickle\n",
        "\n",
        "model = load_model('emma_model.h5')\n",
        "tokenizer = pickle.load(open('emma_tokenizer.pkl', 'rb'))\n",
        "\n",
        "input_text=\"\"\n",
        "while True:\n",
        "    input_text = input().strip().lower()\n",
        "    if input_text == \"stop!!\":\n",
        "        break\n",
        "    encoded_text = tokenizer.texts_to_sequences([input_text])[0]\n",
        "    pad_encoded = pad_sequences([encoded_text], maxlen=seq_len, truncating='pre')\n",
        "    print(encoded_text, pad_encoded)\n",
        "    for i in (model.predict(pad_encoded)[0]).argsort()[-3:][::-1]:\n",
        "      pred_word = tokenizer.index_word[i]\n",
        "      print(\"Next word suggestion:\",pred_word)"
      ]
    },
    {
      "cell_type": "markdown",
      "metadata": {
        "id": "XviWq0hCiBNK"
      },
      "source": [
        "## Reference\n",
        "[Exploring the Next Word Predictor!](https://towardsdatascience.com/exploring-the-next-word-predictor-5e22aeb85d8f)"
      ]
    }
  ],
  "metadata": {
    "accelerator": "TPU",
    "colab": {
      "machine_shape": "hm",
      "toc_visible": true,
      "provenance": [],
      "include_colab_link": true
    },
    "kernelspec": {
      "display_name": "Python 3",
      "language": "python",
      "name": "python3"
    },
    "language_info": {
      "codemirror_mode": {
        "name": "ipython",
        "version": 3
      },
      "file_extension": ".py",
      "mimetype": "text/x-python",
      "name": "python",
      "nbconvert_exporter": "python",
      "pygments_lexer": "ipython3",
      "version": "3.7.6"
    }
  },
  "nbformat": 4,
  "nbformat_minor": 0
}